{
 "cells": [
  {
   "cell_type": "code",
   "execution_count": 1,
   "metadata": {},
   "outputs": [
    {
     "name": "stdout",
     "output_type": "stream",
     "text": [
      "Collecting pygame\n",
      "  Using cached https://files.pythonhosted.org/packages/ed/56/b63ab3724acff69f4080e54c4bc5f55d1fbdeeb19b92b70acf45e88a5908/pygame-1.9.6-cp37-cp37m-win_amd64.whl\n",
      "Installing collected packages: pygame\n",
      "Successfully installed pygame-1.9.6\n"
     ]
    }
   ],
   "source": [
    "!pip install pygame"
   ]
  },
  {
   "cell_type": "code",
   "execution_count": 2,
   "metadata": {},
   "outputs": [
    {
     "name": "stdout",
     "output_type": "stream",
     "text": [
      "Collecting opencv-python\n",
      "  Downloading https://files.pythonhosted.org/packages/85/17/bad54f67bbe27d88ba520c3f59315e95b4e254cd28767c20accacb0597d8/opencv_python-4.2.0.34-cp37-cp37m-win_amd64.whl (33.0MB)\n",
      "Requirement already satisfied: numpy>=1.14.5 in c:\\users\\morri\\anaconda3\\lib\\site-packages (from opencv-python) (1.18.1)\n",
      "Installing collected packages: opencv-python\n",
      "Successfully installed opencv-python-4.2.0.34\n"
     ]
    }
   ],
   "source": [
    "!pip install opencv-python"
   ]
  },
  {
   "cell_type": "code",
   "execution_count": 3,
   "metadata": {},
   "outputs": [
    {
     "name": "stdout",
     "output_type": "stream",
     "text": [
      "Found 35 images belonging to 8 classes.\n",
      "Found 35 images belonging to 8 classes.\n",
      "WARNING:tensorflow:From <ipython-input-3-50a2c4081bb9>:55: Model.fit_generator (from tensorflow.python.keras.engine.training) is deprecated and will be removed in a future version.\n",
      "Instructions for updating:\n",
      "Please use Model.fit, which supports generators.\n",
      "WARNING:tensorflow:sample_weight modes were coerced from\n",
      "  ...\n",
      "    to  \n",
      "  ['...']\n",
      "WARNING:tensorflow:sample_weight modes were coerced from\n",
      "  ...\n",
      "    to  \n",
      "  ['...']\n",
      "Train for 2.1875 steps, validate for 2.1875 steps\n",
      "Epoch 1/30\n",
      "3/2 [=========================================] - 2s 771ms/step - loss: 131.8699 - accuracy: 0.2000 - val_loss: 118.6519 - val_accuracy: 0.1714\n",
      "Epoch 2/30\n",
      "3/2 [=========================================] - 1s 312ms/step - loss: 63.2757 - accuracy: 0.1714 - val_loss: 14.6477 - val_accuracy: 0.5143\n",
      "Epoch 3/30\n",
      "3/2 [=========================================] - 1s 309ms/step - loss: 17.5769 - accuracy: 0.3714 - val_loss: 4.8849 - val_accuracy: 0.7714\n",
      "Epoch 4/30\n",
      "3/2 [=========================================] - 1s 277ms/step - loss: 5.4322 - accuracy: 0.6571 - val_loss: 0.4882 - val_accuracy: 0.8857\n",
      "Epoch 5/30\n",
      "3/2 [=========================================] - 1s 276ms/step - loss: 0.8967 - accuracy: 0.7429 - val_loss: 0.2367 - val_accuracy: 0.9429\n",
      "Epoch 6/30\n",
      "3/2 [=========================================] - 1s 315ms/step - loss: 0.3170 - accuracy: 0.8000 - val_loss: 0.2374 - val_accuracy: 0.9714\n",
      "Epoch 7/30\n",
      "3/2 [=========================================] - 1s 283ms/step - loss: 0.5793 - accuracy: 0.8286 - val_loss: 0.3322 - val_accuracy: 0.9714\n",
      "Epoch 8/30\n",
      "3/2 [=========================================] - 1s 304ms/step - loss: 0.4359 - accuracy: 0.8571 - val_loss: 0.2965 - val_accuracy: 0.9714\n",
      "Epoch 9/30\n",
      "3/2 [=========================================] - 1s 332ms/step - loss: 0.0789 - accuracy: 1.0000 - val_loss: 0.2025 - val_accuracy: 0.9714\n",
      "Epoch 10/30\n",
      "3/2 [=========================================] - 1s 291ms/step - loss: 0.0714 - accuracy: 0.9714 - val_loss: 0.0209 - val_accuracy: 1.0000\n",
      "Epoch 11/30\n",
      "3/2 [=========================================] - 1s 314ms/step - loss: 0.3826 - accuracy: 0.9429 - val_loss: 0.0026 - val_accuracy: 1.0000\n",
      "Epoch 12/30\n",
      "3/2 [=========================================] - 1s 304ms/step - loss: 0.0412 - accuracy: 0.9714 - val_loss: 0.0014 - val_accuracy: 1.0000\n",
      "Epoch 13/30\n",
      "3/2 [=========================================] - 1s 317ms/step - loss: 0.0390 - accuracy: 0.9714 - val_loss: 6.8636e-04 - val_accuracy: 1.0000\n",
      "Epoch 14/30\n",
      "3/2 [=========================================] - 1s 300ms/step - loss: 0.0630 - accuracy: 0.9714 - val_loss: 2.8920e-04 - val_accuracy: 1.0000\n",
      "Epoch 15/30\n",
      "3/2 [=========================================] - 1s 312ms/step - loss: 0.0293 - accuracy: 0.9714 - val_loss: 2.1780e-04 - val_accuracy: 1.0000\n",
      "Epoch 16/30\n",
      "3/2 [=========================================] - 1s 317ms/step - loss: 0.0154 - accuracy: 1.0000 - val_loss: 2.0555e-04 - val_accuracy: 1.0000\n",
      "Epoch 17/30\n",
      "3/2 [=========================================] - 1s 336ms/step - loss: 0.1005 - accuracy: 0.9714 - val_loss: 1.9067e-04 - val_accuracy: 1.0000\n",
      "Epoch 18/30\n",
      "3/2 [=========================================] - 1s 328ms/step - loss: 0.0593 - accuracy: 0.9714 - val_loss: 1.5517e-04 - val_accuracy: 1.0000\n",
      "Epoch 19/30\n",
      "3/2 [=========================================] - 1s 313ms/step - loss: 0.0083 - accuracy: 1.0000 - val_loss: 1.3879e-04 - val_accuracy: 1.0000\n",
      "Epoch 20/30\n",
      "3/2 [=========================================] - 1s 359ms/step - loss: 0.0080 - accuracy: 1.0000 - val_loss: 1.2481e-04 - val_accuracy: 1.0000\n",
      "Epoch 21/30\n",
      "3/2 [=========================================] - 1s 374ms/step - loss: 0.0101 - accuracy: 1.0000 - val_loss: 1.0085e-04 - val_accuracy: 1.0000\n",
      "Epoch 22/30\n",
      "3/2 [=========================================] - 1s 314ms/step - loss: 0.0361 - accuracy: 0.9714 - val_loss: 8.7505e-05 - val_accuracy: 1.0000\n",
      "Epoch 23/30\n",
      "3/2 [=========================================] - 1s 321ms/step - loss: 0.0081 - accuracy: 1.0000 - val_loss: 8.1490e-05 - val_accuracy: 1.0000\n",
      "Epoch 24/30\n",
      "3/2 [=========================================] - 1s 259ms/step - loss: 0.0068 - accuracy: 1.0000 - val_loss: 7.8303e-05 - val_accuracy: 1.0000\n",
      "Epoch 25/30\n",
      "3/2 [=========================================] - 1s 285ms/step - loss: 0.0036 - accuracy: 1.0000 - val_loss: 7.6020e-05 - val_accuracy: 1.0000\n",
      "Epoch 26/30\n",
      "3/2 [=========================================] - 1s 279ms/step - loss: 7.1850e-04 - accuracy: 1.0000 - val_loss: 7.4808e-05 - val_accuracy: 1.0000\n",
      "Epoch 27/30\n",
      "3/2 [=========================================] - 1s 314ms/step - loss: 0.0044 - accuracy: 1.0000 - val_loss: 6.1205e-05 - val_accuracy: 1.0000\n",
      "Epoch 28/30\n",
      "3/2 [=========================================] - 1s 289ms/step - loss: 0.0398 - accuracy: 0.9714 - val_loss: 4.3714e-05 - val_accuracy: 1.0000\n",
      "Epoch 29/30\n",
      "3/2 [=========================================] - 1s 296ms/step - loss: 2.1990e-04 - accuracy: 1.0000 - val_loss: 3.3133e-05 - val_accuracy: 1.0000\n",
      "Epoch 30/30\n",
      "3/2 [=========================================] - 1s 312ms/step - loss: 0.0202 - accuracy: 1.0000 - val_loss: 2.3926e-05 - val_accuracy: 1.0000\n"
     ]
    }
   ],
   "source": [
    "from tensorflow.keras.preprocessing.image import ImageDataGenerator         #To increase the number of data\n",
    "from tensorflow.keras.models import Sequential\n",
    "from tensorflow.keras.layers import Conv2D, MaxPooling2D, Activation, Dropout, Flatten, Dense\n",
    "from tensorflow.keras import backend as K\n",
    "from tensorflow.keras import optimizers\n",
    "import json\n",
    "\n",
    "image_width, image_height = 64, 64\n",
    "if K.image_data_format() == 'channels_first':\n",
    "    input_shape = (1, image_width, image_height)\n",
    "else:\n",
    "    input_shape = (image_width, image_height, 1)\n",
    "\n",
    "train_dir = r'C:\\Users\\morri\\OneDrive\\桌面\\naruto-handsigns-predict-dl-master\\dataset'                #input-to train\n",
    "validation_dir = r'C:\\Users\\morri\\OneDrive\\桌面\\naruto-handsigns-predict-dl-master\\dataset'            #input-to test\n",
    "save_dir=r'C:\\Users\\morri\\OneDrive\\桌面\\naruto-handsigns-predict-dl-master\\save'      #Data generated by ImageDataGenerator\n",
    "\n",
    "train_samples = 35                        #input\n",
    "validation_samples = 35                    #input\n",
    "\n",
    "batch_size = 16\n",
    "epochs = 30\n",
    "\n",
    "#Model Create\n",
    "model = Sequential()\n",
    "model.add(Conv2D(64, (3, 3), input_shape=input_shape))\n",
    "model.add(Activation('relu'))\n",
    "model.add(MaxPooling2D(pool_size=(2, 2)))\n",
    "\n",
    "model.add(Conv2D(32, (3, 3)))\n",
    "model.add(Activation('relu'))\n",
    "model.add(MaxPooling2D(pool_size=(2, 2)))\n",
    "\n",
    "model.add(Flatten())\n",
    "model.add(Dense(128))\n",
    "model.add(Activation('relu'))\n",
    "model.add(Dropout(0.5))\n",
    "model.add(Dense(8))                             #input\n",
    "model.add(Activation('softmax'))\n",
    "\n",
    "model.compile(optimizer='adam', loss='categorical_crossentropy', metrics=['accuracy'])\n",
    "\n",
    "#Generate Data\n",
    "#參考資料: https://zhuanlan.zhihu.com/p/30197320\n",
    "#shear_range:错切变换, zoom_range:让图片在长或宽的方向进行放大, horizontal_flip:随机对图片执行水平翻转操作\n",
    "train_datagen = ImageDataGenerator(shear_range=0.4, zoom_range=0.0, horizontal_flip=True)\n",
    "train_generator = train_datagen.flow_from_directory(train_dir, target_size=(image_width, image_height), batch_size=batch_size, \n",
    "                                                    color_mode=\"grayscale\", class_mode='categorical',save_to_dir=save_dir)\n",
    "test_datagen = ImageDataGenerator()\n",
    "validation_generator = test_datagen.flow_from_directory(validation_dir, target_size=(image_width, image_height), batch_size=batch_size, \n",
    "                                                        color_mode=\"grayscale\", class_mode='categorical',save_to_dir=save_dir)\n",
    "\n",
    "# steps_per_epoch設置說明: https://www.pyimagesearch.com/2018/12/24/how-to-use-keras-fit-and-fit_generator-a-hands-on-tutorial/\n",
    "model.fit_generator(train_generator, steps_per_epoch= train_samples / batch_size, epochs=epochs, validation_data=validation_generator, \n",
    "                    validation_steps= validation_samples / batch_size)\n",
    "\n",
    "\n",
    "model_json = model.to_json()\n",
    "with open(\"model_in_json.json\", \"w\") as json_file:\n",
    "    json.dump(model_json, json_file)\n",
    "\n",
    "\n",
    "model.save_weights('model_weights.h5')"
   ]
  },
  {
   "cell_type": "code",
   "execution_count": null,
   "metadata": {},
   "outputs": [],
   "source": []
  }
 ],
 "metadata": {
  "kernelspec": {
   "display_name": "Python 3",
   "language": "python",
   "name": "python3"
  },
  "language_info": {
   "codemirror_mode": {
    "name": "ipython",
    "version": 3
   },
   "file_extension": ".py",
   "mimetype": "text/x-python",
   "name": "python",
   "nbconvert_exporter": "python",
   "pygments_lexer": "ipython3",
   "version": "3.7.3"
  }
 },
 "nbformat": 4,
 "nbformat_minor": 2
}
