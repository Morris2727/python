{
 "cells": [
  {
   "cell_type": "code",
   "execution_count": null,
   "metadata": {},
   "outputs": [],
   "source": [
    "%matplotlib inline\n",
    "import numpy as np\n",
    "import matplotlib.pyplot as plt\n",
    "import pandas as pd"
   ]
  },
  {
   "cell_type": "code",
   "execution_count": 2,
   "metadata": {},
   "outputs": [
    {
     "name": "stdout",
     "output_type": "stream",
     "text": [
      "判斷正負奇偶\n",
      "輸入一個整數:-3\n",
      "-3 為負奇數\n"
     ]
    }
   ],
   "source": [
    "print(\"判斷正負奇偶\")\n",
    "num1 = input(\"輸入一個整數:\")\n",
    "num = int(num1)\n",
    "\n",
    "if(num > 0):\n",
    "    if(num % 2 == 0):\n",
    "        print(\"%+d 為正偶數\" % num)\n",
    "    else:\n",
    "        print(\"%+d 為正奇數\" % num)\n",
    "        \n",
    "elif(num < 0):\n",
    "    if(num % 2 == 0):\n",
    "        print(\"%+d 為負偶數\" % num)\n",
    "    else:\n",
    "        print(\"%+d 為負奇數\" % num)\n",
    "else:\n",
    "    print(0)"
   ]
  },
  {
   "cell_type": "code",
   "execution_count": null,
   "metadata": {},
   "outputs": [],
   "source": []
  }
 ],
 "metadata": {
  "kernelspec": {
   "display_name": "Python 3",
   "language": "python",
   "name": "python3"
  },
  "language_info": {
   "codemirror_mode": {
    "name": "ipython",
    "version": 3
   },
   "file_extension": ".py",
   "mimetype": "text/x-python",
   "name": "python",
   "nbconvert_exporter": "python",
   "pygments_lexer": "ipython3",
   "version": "3.7.3"
  }
 },
 "nbformat": 4,
 "nbformat_minor": 2
}
