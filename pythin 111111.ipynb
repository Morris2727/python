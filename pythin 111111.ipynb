{
 "cells": [
  {
   "cell_type": "code",
   "execution_count": 2,
   "metadata": {},
   "outputs": [
    {
     "name": "stdout",
     "output_type": "stream",
     "text": [
      "猜數字囉\n",
      "來隨便猜一個數字吧: 66\n",
      "喔你猜得太小囉\n",
      "你猜了1次\n",
      "來隨便猜一個數字吧: 80\n",
      "喔你猜得太小囉\n",
      "你猜了2次\n",
      "來隨便猜一個數字吧: 96\n",
      "喔你猜得太大囉\n",
      "你猜了3次\n",
      "來隨便猜一個數字吧: 88\n",
      "喔你猜得太小囉\n",
      "你猜了4次\n",
      "來隨便猜一個數字吧: 92\n",
      "恭喜你猜對了！\n",
      "你猜了5次\n"
     ]
    }
   ],
   "source": [
    "import random\n",
    "ans =  random.randint(0,101) \n",
    "times = 0\n",
    "print('猜數字囉')\n",
    "play = True\n",
    "\n",
    "while(play):\n",
    "    try:\n",
    "        guess = int(input('來隨便猜一個數字吧: ')) \n",
    "    except:\n",
    "        print('程式出現錯誤，答案是'+str(ans))\n",
    "        play = False\n",
    "    else:\n",
    "        times = times+1 \n",
    "        if (guess > ans):\n",
    "            print('喔你猜得太大囉')\n",
    "        elif (guess < ans):\n",
    "            print('喔你猜得太小囉')\n",
    "        else:\n",
    "            print('恭喜你猜對了！')\n",
    "            play = False\n",
    "    finally:\n",
    "        print('你猜了'+str(times)+'次') "
   ]
  },
  {
   "cell_type": "code",
   "execution_count": null,
   "metadata": {},
   "outputs": [],
   "source": []
  }
 ],
 "metadata": {
  "kernelspec": {
   "display_name": "Python 3",
   "language": "python",
   "name": "python3"
  },
  "language_info": {
   "codemirror_mode": {
    "name": "ipython",
    "version": 3
   },
   "file_extension": ".py",
   "mimetype": "text/x-python",
   "name": "python",
   "nbconvert_exporter": "python",
   "pygments_lexer": "ipython3",
   "version": "3.7.3"
  }
 },
 "nbformat": 4,
 "nbformat_minor": 2
}
