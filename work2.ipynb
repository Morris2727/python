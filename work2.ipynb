{
 "cells": [
  {
   "cell_type": "code",
   "execution_count": 1,
   "metadata": {},
   "outputs": [],
   "source": [
    "%matplotlib inline\n",
    "\n",
    "import numpy as np\n",
    "import pandas as pd\n",
    "import matplotlib.pyplot as plt"
   ]
  },
  {
   "cell_type": "code",
   "execution_count": 2,
   "metadata": {},
   "outputs": [
    {
     "name": "stdout",
     "output_type": "stream",
     "text": [
      "請輸入本金：5368890\n",
      "請輸入名目利率:2\n",
      "請輸入期數:12\n",
      "請輸入年數:4\n",
      "請輸入本金和: 5815661.8113\n"
     ]
    }
   ],
   "source": [
    "principal=float(input(\"請輸入本金：\"))\n",
    "norminal_interest_rate=float(input(\"請輸入名目利率:\"))\n",
    "number_of_periods=float(input(\"請輸入期數:\"))\n",
    "year=float(input(\"請輸入年數:\"))\n",
    "x= number_of_periods* year\n",
    "y=0.01* norminal_interest_rate/number_of_periods\n",
    "z=(1+y)**x\n",
    "total=('%.4f'%(principal*z))\n",
    "print(\"請輸入本金和:\",total)"
   ]
  },
  {
   "cell_type": "code",
   "execution_count": null,
   "metadata": {},
   "outputs": [],
   "source": []
  }
 ],
 "metadata": {
  "kernelspec": {
   "display_name": "Python 3",
   "language": "python",
   "name": "python3"
  },
  "language_info": {
   "codemirror_mode": {
    "name": "ipython",
    "version": 3
   },
   "file_extension": ".py",
   "mimetype": "text/x-python",
   "name": "python",
   "nbconvert_exporter": "python",
   "pygments_lexer": "ipython3",
   "version": "3.7.3"
  }
 },
 "nbformat": 4,
 "nbformat_minor": 2
}
