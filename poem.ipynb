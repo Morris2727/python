{
 "cells": [
  {
   "cell_type": "code",
   "execution_count": 1,
   "metadata": {},
   "outputs": [],
   "source": [
    "%matplotlib inline\n",
    "\n",
    "import numpy as np \n",
    "import matplotlib.pyplot as pit \n",
    "import pandas as pd "
   ]
  },
  {
   "cell_type": "code",
   "execution_count": 5,
   "metadata": {},
   "outputs": [
    {
     "name": "stdout",
     "output_type": "stream",
     "text": [
      "溫柔地 愛情 總有 你的\n",
      "溫柔地 年老  年輕\n",
      "勇敢  你的 年老 溫柔地 \n",
      "你的 不畏私欲  美好 \n",
      " 真誠 我們 你的 回憶\n",
      " 溫柔 回憶 年老\n",
      "真誠 不畏私欲 感動  溫柔地 我們\n",
      "我們  美好  溫柔地 \n",
      " 愛情 勇敢 善良 溫柔地 我們\n"
     ]
    }
   ],
   "source": [
    "from random import randint, choices, sample\n",
    "\n",
    "st = '''\n",
    "\n",
    "總有\n",
    "一天\n",
    "我們\n",
    "回憶\n",
    "美好 \n",
    "年輕\n",
    "溫柔地\n",
    "你的\n",
    "愛情\n",
    "年老\n",
    "溫柔\n",
    "我們\n",
    "真誠\n",
    "善良\n",
    "勇敢\n",
    "不畏私欲\n",
    "感動\n",
    "\n",
    "'''\n",
    "\n",
    "words = st.split('\\n')\n",
    "\n",
    "def poem():\n",
    "\n",
    "    n = randint(5, 9) \n",
    "\n",
    "    for i in range(n):\n",
    "\n",
    "        m = randint(4, 7) \n",
    "\n",
    "        sentence = sample(words, m)\n",
    "\n",
    "        print(\" \".join(sentence))\n",
    "\n",
    "poem()\n",
    "   "
   ]
  },
  {
   "cell_type": "code",
   "execution_count": null,
   "metadata": {},
   "outputs": [],
   "source": []
  }
 ],
 "metadata": {
  "kernelspec": {
   "display_name": "Python 3",
   "language": "python",
   "name": "python3"
  },
  "language_info": {
   "codemirror_mode": {
    "name": "ipython",
    "version": 3
   },
   "file_extension": ".py",
   "mimetype": "text/x-python",
   "name": "python",
   "nbconvert_exporter": "python",
   "pygments_lexer": "ipython3",
   "version": "3.7.3"
  }
 },
 "nbformat": 4,
 "nbformat_minor": 2
}
