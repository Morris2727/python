{
 "cells": [
  {
   "cell_type": "code",
   "execution_count": 1,
   "metadata": {},
   "outputs": [],
   "source": [
    "from random import randint"
   ]
  },
  {
   "cell_type": "code",
   "execution_count": 2,
   "metadata": {},
   "outputs": [],
   "source": [
    "def game():\n",
    "    ans = randint(1, 100)\n",
    "    guess = -1\n",
    "\n",
    "    while guess != ans:\n",
    "        guess = int(input(\"請輸入一個數字: \"))\n",
    "\n",
    "        if guess>ans:\n",
    "            print(\"太大了!\")\n",
    "        elif guess<ans:\n",
    "            print(\"太小了!\")\n",
    "        else:\n",
    "            print(\"太神了!\")"
   ]
  },
  {
   "cell_type": "code",
   "execution_count": 3,
   "metadata": {},
   "outputs": [
    {
     "name": "stdout",
     "output_type": "stream",
     "text": [
      "請輸入一個數字: 70\n",
      "太大了!\n",
      "請輸入一個數字: 40\n",
      "太大了!\n",
      "請輸入一個數字: 20\n",
      "太大了!\n",
      "請輸入一個數字: 10\n",
      "太大了!\n",
      "請輸入一個數字: 3\n",
      "太小了!\n",
      "請輸入一個數字: 6\n",
      "太大了!\n",
      "請輸入一個數字: 4\n",
      "太神了!\n"
     ]
    }
   ],
   "source": [
    "game()"
   ]
  },
  {
   "cell_type": "code",
   "execution_count": null,
   "metadata": {},
   "outputs": [],
   "source": []
  }
 ],
 "metadata": {
  "kernelspec": {
   "display_name": "Python 3",
   "language": "python",
   "name": "python3"
  },
  "language_info": {
   "codemirror_mode": {
    "name": "ipython",
    "version": 3
   },
   "file_extension": ".py",
   "mimetype": "text/x-python",
   "name": "python",
   "nbconvert_exporter": "python",
   "pygments_lexer": "ipython3",
   "version": "3.7.3"
  }
 },
 "nbformat": 4,
 "nbformat_minor": 2
}
