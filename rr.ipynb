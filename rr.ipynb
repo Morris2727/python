{
 "cells": [
  {
   "cell_type": "code",
   "execution_count": 1,
   "metadata": {},
   "outputs": [],
   "source": [
    "%matplotlib inline\n",
    "\n",
    "import numpy as np\n",
    "import pandas as pd\n",
    "import matplotlib.pyplot as plt"
   ]
  },
  {
   "cell_type": "code",
   "execution_count": null,
   "metadata": {},
   "outputs": [
    {
     "name": "stdout",
     "output_type": "stream",
     "text": [
      "某段距離花費的時間\n",
      "請輸入距離(km):39827154\n"
     ]
    }
   ],
   "source": [
    "print(\"某段距離花費的時間\")\n",
    "distance=int(input(\"請輸入距離(km):\"))\n",
    "speed=int(input(\"請輸入速度(km/hr):\"))\n",
    "total_time=distance/speed #花費的小時數\n",
    "hour=total_time%24\n",
    "minute=(hour-int(hour))*60\n",
    "print(\"%d小時%d分鐘\"%(hour,minute))"
   ]
  },
  {
   "cell_type": "code",
   "execution_count": null,
   "metadata": {},
   "outputs": [],
   "source": []
  }
 ],
 "metadata": {
  "kernelspec": {
   "display_name": "Python 3",
   "language": "python",
   "name": "python3"
  },
  "language_info": {
   "codemirror_mode": {
    "name": "ipython",
    "version": 3
   },
   "file_extension": ".py",
   "mimetype": "text/x-python",
   "name": "python",
   "nbconvert_exporter": "python",
   "pygments_lexer": "ipython3",
   "version": "3.7.3"
  }
 },
 "nbformat": 4,
 "nbformat_minor": 2
}
