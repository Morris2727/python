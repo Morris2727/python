{
 "cells": [
  {
   "cell_type": "code",
   "execution_count": 1,
   "metadata": {},
   "outputs": [],
   "source": [
    "%matplotlib inline\n",
    "\n",
    "import numpy as np\n",
    "import matplotlib.pyplot as plt\n",
    "import pandas as pd"
   ]
  },
  {
   "cell_type": "markdown",
   "metadata": {},
   "source": [
    "## 載入套件"
   ]
  },
  {
   "cell_type": "code",
   "execution_count": 2,
   "metadata": {},
   "outputs": [],
   "source": [
    "from tensorflow.keras.datasets import fashion_mnist"
   ]
  },
  {
   "cell_type": "code",
   "execution_count": 3,
   "metadata": {},
   "outputs": [],
   "source": [
    "(x_train, y_train), (x_test, y_test) = fashion_mnist.load_data()"
   ]
  },
  {
   "cell_type": "code",
   "execution_count": 4,
   "metadata": {},
   "outputs": [],
   "source": [
    "class_names = ['T-shirt/top', 'Trouser', 'Pullover', 'Dress', 'Coat',\n",
    "               'Sandal', 'Shirt', 'Sneaker', 'Bag', 'Ankle boot']"
   ]
  },
  {
   "cell_type": "code",
   "execution_count": 5,
   "metadata": {},
   "outputs": [
    {
     "data": {
      "text/plain": [
       "(60000, 28, 28)"
      ]
     },
     "execution_count": 5,
     "metadata": {},
     "output_type": "execute_result"
    }
   ],
   "source": [
    "x_train.shape"
   ]
  },
  {
   "cell_type": "code",
   "execution_count": 8,
   "metadata": {},
   "outputs": [
    {
     "data": {
      "text/plain": [
       "60000"
      ]
     },
     "execution_count": 8,
     "metadata": {},
     "output_type": "execute_result"
    }
   ],
   "source": [
    "len(x_train)"
   ]
  },
  {
   "cell_type": "code",
   "execution_count": 9,
   "metadata": {},
   "outputs": [
    {
     "data": {
      "text/plain": [
       "60000"
      ]
     },
     "execution_count": 9,
     "metadata": {},
     "output_type": "execute_result"
    }
   ],
   "source": [
    "len(y_train)"
   ]
  },
  {
   "cell_type": "markdown",
   "metadata": {},
   "source": [
    "### 轉化我們的資料格式 (28,28) --> (28, 28, 1)"
   ]
  },
  {
   "cell_type": "code",
   "execution_count": 11,
   "metadata": {},
   "outputs": [
    {
     "data": {
      "text/plain": [
       "255"
      ]
     },
     "execution_count": 11,
     "metadata": {},
     "output_type": "execute_result"
    }
   ],
   "source": [
    "np.max(x_train)"
   ]
  },
  {
   "cell_type": "code",
   "execution_count": 12,
   "metadata": {},
   "outputs": [],
   "source": [
    "x_train = x_train.reshape(60000,28,28,1) / 255\n",
    "x_test = x_test.reshape(10000,28,28,1) / 255"
   ]
  },
  {
   "cell_type": "code",
   "execution_count": 13,
   "metadata": {},
   "outputs": [],
   "source": [
    "from tensorflow.keras.utils import to_categorical"
   ]
  },
  {
   "cell_type": "code",
   "execution_count": 14,
   "metadata": {},
   "outputs": [],
   "source": [
    "y_train = to_categorical(y_train, 10)\n",
    "y_test = to_categorical(y_test, 10)"
   ]
  },
  {
   "cell_type": "markdown",
   "metadata": {},
   "source": [
    "## 讀入必要的函式"
   ]
  },
  {
   "cell_type": "code",
   "execution_count": 15,
   "metadata": {},
   "outputs": [],
   "source": [
    "from tensorflow.keras.models import Sequential\n",
    "from tensorflow.keras.layers import Conv2D, MaxPooling2D\n",
    "from tensorflow.keras.layers import Dense, Flatten\n",
    "from tensorflow.keras.optimizers import SGD"
   ]
  },
  {
   "cell_type": "markdown",
   "metadata": {},
   "source": [
    "## 打造CNN"
   ]
  },
  {
   "cell_type": "code",
   "execution_count": 16,
   "metadata": {},
   "outputs": [],
   "source": [
    "model = Sequential()"
   ]
  },
  {
   "cell_type": "markdown",
   "metadata": {},
   "source": [
    "#### 第一層conv為16,max_pooling為2*2"
   ]
  },
  {
   "cell_type": "code",
   "execution_count": 24,
   "metadata": {},
   "outputs": [],
   "source": [
    "model.add(Conv2D(16, (3,3), padding='same',\n",
    "                input_shape=(28,28,1),\n",
    "                activation='relu'))  # 輸出 16 個 28x28 矩陣,事實上是 (28, 28, 16)"
   ]
  },
  {
   "cell_type": "markdown",
   "metadata": {},
   "source": [
    "#### 第二層conv為32,max_pooling為2*2"
   ]
  },
  {
   "cell_type": "code",
   "execution_count": 25,
   "metadata": {},
   "outputs": [],
   "source": [
    "model.add(Conv2D(32,(3,3),padding='same',\n",
    "                activation= 'relu'))\n",
    "model.add(MaxPooling2D(pool_size=(2,2)))"
   ]
  },
  {
   "cell_type": "markdown",
   "metadata": {},
   "source": [
    "#### 第三層conv為32,max_pooling為2*2"
   ]
  },
  {
   "cell_type": "code",
   "execution_count": 26,
   "metadata": {},
   "outputs": [],
   "source": [
    "model.add(Conv2D(64,(3,3),padding='same',\n",
    "                activation= 'relu'))\n",
    "model.add(MaxPooling2D(pool_size=(2,2)))"
   ]
  },
  {
   "cell_type": "code",
   "execution_count": 27,
   "metadata": {},
   "outputs": [],
   "source": [
    "model.add(Flatten())\n",
    "model.add(Dense(35, activation='relu'))\n",
    "model.add(Dense(10, activation='softmax'))"
   ]
  },
  {
   "cell_type": "code",
   "execution_count": 28,
   "metadata": {},
   "outputs": [
    {
     "name": "stdout",
     "output_type": "stream",
     "text": [
      "Model: \"sequential\"\n",
      "_________________________________________________________________\n",
      "Layer (type)                 Output Shape              Param #   \n",
      "=================================================================\n",
      "conv2d (Conv2D)              (None, 28, 28, 16)        160       \n",
      "_________________________________________________________________\n",
      "conv2d_1 (Conv2D)            (None, 28, 28, 32)        4640      \n",
      "_________________________________________________________________\n",
      "max_pooling2d (MaxPooling2D) (None, 14, 14, 32)        0         \n",
      "_________________________________________________________________\n",
      "conv2d_2 (Conv2D)            (None, 14, 14, 64)        18496     \n",
      "_________________________________________________________________\n",
      "max_pooling2d_1 (MaxPooling2 (None, 7, 7, 64)          0         \n",
      "_________________________________________________________________\n",
      "conv2d_3 (Conv2D)            (None, 7, 7, 16)          9232      \n",
      "_________________________________________________________________\n",
      "conv2d_4 (Conv2D)            (None, 7, 7, 32)          4640      \n",
      "_________________________________________________________________\n",
      "max_pooling2d_2 (MaxPooling2 (None, 3, 3, 32)          0         \n",
      "_________________________________________________________________\n",
      "conv2d_5 (Conv2D)            (None, 3, 3, 64)          18496     \n",
      "_________________________________________________________________\n",
      "max_pooling2d_3 (MaxPooling2 (None, 1, 1, 64)          0         \n",
      "_________________________________________________________________\n",
      "flatten (Flatten)            (None, 64)                0         \n",
      "_________________________________________________________________\n",
      "dense (Dense)                (None, 35)                2275      \n",
      "_________________________________________________________________\n",
      "dense_1 (Dense)              (None, 10)                360       \n",
      "=================================================================\n",
      "Total params: 58,299\n",
      "Trainable params: 58,299\n",
      "Non-trainable params: 0\n",
      "_________________________________________________________________\n"
     ]
    }
   ],
   "source": [
    "model.summary()"
   ]
  },
  {
   "cell_type": "markdown",
   "metadata": {},
   "source": [
    "#### 設定learning_Rate為0.06,batch_size為100,epochs為20"
   ]
  },
  {
   "cell_type": "code",
   "execution_count": 29,
   "metadata": {},
   "outputs": [],
   "source": [
    "model.compile(loss=\"mse\",optimizer=SGD(lr=0.06),\n",
    "             metrics=[\"accuracy\"])"
   ]
  },
  {
   "cell_type": "code",
   "execution_count": 30,
   "metadata": {},
   "outputs": [
    {
     "name": "stdout",
     "output_type": "stream",
     "text": [
      "Train on 60000 samples\n",
      "Epoch 1/20\n",
      "60000/60000 [==============================] - 41s 686us/sample - loss: 0.0898 - accuracy: 0.1455\n",
      "Epoch 2/20\n",
      "60000/60000 [==============================] - 43s 721us/sample - loss: 0.0893 - accuracy: 0.2808\n",
      "Epoch 3/20\n",
      "60000/60000 [==============================] - 42s 702us/sample - loss: 0.0860 - accuracy: 0.3444\n",
      "Epoch 4/20\n",
      "60000/60000 [==============================] - 43s 710us/sample - loss: 0.0549 - accuracy: 0.5737\n",
      "Epoch 5/20\n",
      "60000/60000 [==============================] - 42s 701us/sample - loss: 0.0419 - accuracy: 0.6858\n",
      "Epoch 6/20\n",
      "60000/60000 [==============================] - 42s 694us/sample - loss: 0.0379 - accuracy: 0.7227\n",
      "Epoch 7/20\n",
      "60000/60000 [==============================] - 41s 681us/sample - loss: 0.0353 - accuracy: 0.7448\n",
      "Epoch 8/20\n",
      "60000/60000 [==============================] - 41s 686us/sample - loss: 0.0334 - accuracy: 0.7594\n",
      "Epoch 9/20\n",
      "60000/60000 [==============================] - 41s 684us/sample - loss: 0.0320 - accuracy: 0.7696\n",
      "Epoch 10/20\n",
      "60000/60000 [==============================] - 41s 680us/sample - loss: 0.0306 - accuracy: 0.7829\n",
      "Epoch 11/20\n",
      "60000/60000 [==============================] - 41s 683us/sample - loss: 0.0296 - accuracy: 0.7918\n",
      "Epoch 12/20\n",
      "60000/60000 [==============================] - 41s 683us/sample - loss: 0.0284 - accuracy: 0.8012\n",
      "Epoch 13/20\n",
      "60000/60000 [==============================] - 41s 691us/sample - loss: 0.0276 - accuracy: 0.8067\n",
      "Epoch 14/20\n",
      "60000/60000 [==============================] - 42s 708us/sample - loss: 0.0267 - accuracy: 0.8141\n",
      "Epoch 15/20\n",
      "60000/60000 [==============================] - 41s 689us/sample - loss: 0.0260 - accuracy: 0.8189\n",
      "Epoch 16/20\n",
      "60000/60000 [==============================] - 47s 777us/sample - loss: 0.0253 - accuracy: 0.8229\n",
      "Epoch 17/20\n",
      "60000/60000 [==============================] - 43s 709us/sample - loss: 0.0249 - accuracy: 0.8275\n",
      "Epoch 18/20\n",
      "60000/60000 [==============================] - 41s 681us/sample - loss: 0.0243 - accuracy: 0.8313\n",
      "Epoch 19/20\n",
      "60000/60000 [==============================] - 42s 706us/sample - loss: 0.0238 - accuracy: 0.8344\n",
      "Epoch 20/20\n",
      "60000/60000 [==============================] - 41s 684us/sample - loss: 0.0234 - accuracy: 0.8375\n"
     ]
    },
    {
     "data": {
      "text/plain": [
       "<tensorflow.python.keras.callbacks.History at 0x253449b8550>"
      ]
     },
     "execution_count": 30,
     "metadata": {},
     "output_type": "execute_result"
    }
   ],
   "source": [
    "model.fit(x_train,y_train,batch_size=100,epochs=20)"
   ]
  },
  {
   "cell_type": "code",
   "execution_count": null,
   "metadata": {},
   "outputs": [],
   "source": [
    "## 好久...."
   ]
  },
  {
   "cell_type": "markdown",
   "metadata": {},
   "source": [
    "### 建立第二個CNN model"
   ]
  },
  {
   "cell_type": "code",
   "execution_count": 31,
   "metadata": {},
   "outputs": [],
   "source": [
    "model2= Sequential()"
   ]
  },
  {
   "cell_type": "markdown",
   "metadata": {},
   "source": [
    "#### 第一層conv為32,max_pooling為2*2"
   ]
  },
  {
   "cell_type": "code",
   "execution_count": 32,
   "metadata": {},
   "outputs": [],
   "source": [
    "model2.add(Conv2D(32,(3,3),padding='same',\n",
    "                input_shape=(28,28,1),\n",
    "                activation= 'relu'))\n",
    "model2.add(MaxPooling2D(pool_size=(2,2)))"
   ]
  },
  {
   "cell_type": "markdown",
   "metadata": {},
   "source": [
    "#### 第二層conv為64,max_pooling為2*2"
   ]
  },
  {
   "cell_type": "code",
   "execution_count": 33,
   "metadata": {},
   "outputs": [],
   "source": [
    "model2.add(Conv2D(64,(3,3),padding='same',\n",
    "                activation= 'relu'))\n",
    "model2.add(MaxPooling2D(pool_size=(2,2)))"
   ]
  },
  {
   "cell_type": "markdown",
   "metadata": {},
   "source": [
    "#### 第三層conv為128,max_pooling為2*2"
   ]
  },
  {
   "cell_type": "code",
   "execution_count": 34,
   "metadata": {},
   "outputs": [],
   "source": [
    "model2.add(Conv2D(128,(3,3),padding='same',\n",
    "                activation= 'relu'))\n",
    "model2.add(MaxPooling2D(pool_size=(2,2)))"
   ]
  },
  {
   "cell_type": "code",
   "execution_count": 35,
   "metadata": {},
   "outputs": [],
   "source": [
    "model2.add(Flatten())\n",
    "model2.add(Dense(54,activation='relu'))\n",
    "model2.add(Dense(10,activation='softmax'))"
   ]
  },
  {
   "cell_type": "code",
   "execution_count": 36,
   "metadata": {},
   "outputs": [
    {
     "name": "stdout",
     "output_type": "stream",
     "text": [
      "Model: \"sequential_1\"\n",
      "_________________________________________________________________\n",
      "Layer (type)                 Output Shape              Param #   \n",
      "=================================================================\n",
      "conv2d_6 (Conv2D)            (None, 28, 28, 32)        320       \n",
      "_________________________________________________________________\n",
      "max_pooling2d_4 (MaxPooling2 (None, 14, 14, 32)        0         \n",
      "_________________________________________________________________\n",
      "conv2d_7 (Conv2D)            (None, 14, 14, 64)        18496     \n",
      "_________________________________________________________________\n",
      "max_pooling2d_5 (MaxPooling2 (None, 7, 7, 64)          0         \n",
      "_________________________________________________________________\n",
      "conv2d_8 (Conv2D)            (None, 7, 7, 128)         73856     \n",
      "_________________________________________________________________\n",
      "max_pooling2d_6 (MaxPooling2 (None, 3, 3, 128)         0         \n",
      "_________________________________________________________________\n",
      "flatten_1 (Flatten)          (None, 1152)              0         \n",
      "_________________________________________________________________\n",
      "dense_2 (Dense)              (None, 54)                62262     \n",
      "_________________________________________________________________\n",
      "dense_3 (Dense)              (None, 10)                550       \n",
      "=================================================================\n",
      "Total params: 155,484\n",
      "Trainable params: 155,484\n",
      "Non-trainable params: 0\n",
      "_________________________________________________________________\n"
     ]
    }
   ],
   "source": [
    "model2.summary()"
   ]
  },
  {
   "cell_type": "markdown",
   "metadata": {},
   "source": [
    "#### 設定learning_Rate為0.09,batch_size為200,epochs為12"
   ]
  },
  {
   "cell_type": "code",
   "execution_count": 39,
   "metadata": {},
   "outputs": [],
   "source": [
    "model2.compile(loss=\"mse\",optimizer=SGD(lr=0.09),\n",
    "             metrics=[\"accuracy\"])"
   ]
  },
  {
   "cell_type": "code",
   "execution_count": 41,
   "metadata": {},
   "outputs": [
    {
     "name": "stdout",
     "output_type": "stream",
     "text": [
      "Train on 60000 samples\n",
      "Epoch 1/20\n",
      "60000/60000 [==============================] - 40s 674us/sample - loss: 0.0286 - accuracy: 0.8012\n",
      "Epoch 2/20\n",
      "60000/60000 [==============================] - 40s 671us/sample - loss: 0.0280 - accuracy: 0.8052\n",
      "Epoch 3/20\n",
      "60000/60000 [==============================] - 40s 673us/sample - loss: 0.0273 - accuracy: 0.8110\n",
      "Epoch 4/20\n",
      "60000/60000 [==============================] - 40s 674us/sample - loss: 0.0268 - accuracy: 0.8140\n",
      "Epoch 5/20\n",
      "60000/60000 [==============================] - 41s 675us/sample - loss: 0.0262 - accuracy: 0.8180\n",
      "Epoch 6/20\n",
      "60000/60000 [==============================] - 40s 672us/sample - loss: 0.0256 - accuracy: 0.8227\n",
      "Epoch 7/20\n",
      "60000/60000 [==============================] - 40s 674us/sample - loss: 0.0254 - accuracy: 0.8239\n",
      "Epoch 8/20\n",
      "60000/60000 [==============================] - 40s 672us/sample - loss: 0.0247 - accuracy: 0.8306\n",
      "Epoch 9/20\n",
      "60000/60000 [==============================] - 41s 680us/sample - loss: 0.0241 - accuracy: 0.8335\n",
      "Epoch 10/20\n",
      "60000/60000 [==============================] - 40s 675us/sample - loss: 0.0239 - accuracy: 0.8349\n",
      "Epoch 11/20\n",
      "60000/60000 [==============================] - 40s 672us/sample - loss: 0.0234 - accuracy: 0.8387\n",
      "Epoch 12/20\n",
      "60000/60000 [==============================] - 40s 673us/sample - loss: 0.0230 - accuracy: 0.8428\n",
      "Epoch 13/20\n",
      "60000/60000 [==============================] - 41s 677us/sample - loss: 0.0226 - accuracy: 0.8457\n",
      "Epoch 14/20\n",
      "60000/60000 [==============================] - 40s 672us/sample - loss: 0.0223 - accuracy: 0.8468\n",
      "Epoch 15/20\n",
      "60000/60000 [==============================] - 40s 673us/sample - loss: 0.0221 - accuracy: 0.8484\n",
      "Epoch 16/20\n",
      "60000/60000 [==============================] - 41s 676us/sample - loss: 0.0216 - accuracy: 0.8513\n",
      "Epoch 17/20\n",
      "60000/60000 [==============================] - 40s 673us/sample - loss: 0.0214 - accuracy: 0.8533\n",
      "Epoch 18/20\n",
      "60000/60000 [==============================] - 41s 682us/sample - loss: 0.0211 - accuracy: 0.8565\n",
      "Epoch 19/20\n",
      "60000/60000 [==============================] - 41s 675us/sample - loss: 0.0209 - accuracy: 0.8565\n",
      "Epoch 20/20\n",
      "60000/60000 [==============================] - 40s 675us/sample - loss: 0.0207 - accuracy: 0.8583\n"
     ]
    },
    {
     "data": {
      "text/plain": [
       "<tensorflow.python.keras.callbacks.History at 0x253472c8048>"
      ]
     },
     "execution_count": 41,
     "metadata": {},
     "output_type": "execute_result"
    }
   ],
   "source": [
    "model2.fit(x_train,y_train,batch_size=200,epochs=20)"
   ]
  },
  {
   "cell_type": "markdown",
   "metadata": {},
   "source": [
    "## 預測"
   ]
  },
  {
   "cell_type": "code",
   "execution_count": 42,
   "metadata": {},
   "outputs": [],
   "source": [
    "result = model2.predict_classes(x_test)"
   ]
  },
  {
   "cell_type": "code",
   "execution_count": 43,
   "metadata": {},
   "outputs": [],
   "source": [
    "def my_predict(n):\n",
    "    print('我的 CNN 預測是', result[n])\n",
    "    X = x_test[n].reshape(28,28)\n",
    "    plt.imshow(X)"
   ]
  },
  {
   "cell_type": "code",
   "execution_count": 44,
   "metadata": {},
   "outputs": [],
   "source": [
    "from ipywidgets import interact_manual"
   ]
  },
  {
   "cell_type": "code",
   "execution_count": 45,
   "metadata": {},
   "outputs": [
    {
     "data": {
      "application/vnd.jupyter.widget-view+json": {
       "model_id": "6be6468eb1b14e9da7503f42a558c84d",
       "version_major": 2,
       "version_minor": 0
      },
      "text/plain": [
       "interactive(children=(IntSlider(value=4999, description='n', max=9999), Button(description='Run Interact', sty…"
      ]
     },
     "metadata": {},
     "output_type": "display_data"
    },
    {
     "data": {
      "text/plain": [
       "<function __main__.my_predict(n)>"
      ]
     },
     "execution_count": 45,
     "metadata": {},
     "output_type": "execute_result"
    }
   ],
   "source": [
    "interact_manual(my_predict, n=(0, 9999))"
   ]
  },
  {
   "cell_type": "code",
   "execution_count": 46,
   "metadata": {},
   "outputs": [
    {
     "name": "stdout",
     "output_type": "stream",
     "text": [
      "10000/10000 [==============================] - 2s 199us/sample - loss: 0.0216 - accuracy: 0.8549\n"
     ]
    }
   ],
   "source": [
    "score = model2.evaluate(x_test, y_test)"
   ]
  },
  {
   "cell_type": "code",
   "execution_count": 47,
   "metadata": {},
   "outputs": [],
   "source": [
    "loss, acc = score"
   ]
  },
  {
   "cell_type": "code",
   "execution_count": 48,
   "metadata": {},
   "outputs": [
    {
     "name": "stdout",
     "output_type": "stream",
     "text": [
      "測試資料的正確率為 0.8549\n"
     ]
    }
   ],
   "source": [
    "print('測試資料的正確率為', acc)"
   ]
  },
  {
   "cell_type": "code",
   "execution_count": null,
   "metadata": {},
   "outputs": [],
   "source": []
  }
 ],
 "metadata": {
  "kernelspec": {
   "display_name": "Python 3",
   "language": "python",
   "name": "python3"
  },
  "language_info": {
   "codemirror_mode": {
    "name": "ipython",
    "version": 3
   },
   "file_extension": ".py",
   "mimetype": "text/x-python",
   "name": "python",
   "nbconvert_exporter": "python",
   "pygments_lexer": "ipython3",
   "version": "3.7.3"
  }
 },
 "nbformat": 4,
 "nbformat_minor": 2
}
