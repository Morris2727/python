{
 "cells": [
  {
   "cell_type": "code",
   "execution_count": 1,
   "metadata": {},
   "outputs": [],
   "source": [
    "%matplotlib inline\n",
    "\n",
    "import numpy as np\n",
    "import matplotlib.pyplot as plt"
   ]
  },
  {
   "cell_type": "code",
   "execution_count": 2,
   "metadata": {},
   "outputs": [],
   "source": [
    "import tensorflow as ts"
   ]
  },
  {
   "cell_type": "markdown",
   "metadata": {},
   "source": [
    "# 讀入 MNSIT 數據集"
   ]
  },
  {
   "cell_type": "code",
   "execution_count": 3,
   "metadata": {},
   "outputs": [],
   "source": [
    "from tensorflow.keras.datasets import fashion_mnist"
   ]
  },
  {
   "cell_type": "code",
   "execution_count": 4,
   "metadata": {},
   "outputs": [],
   "source": [
    "(x_train, y_train), (x_test, y_test) = fashion_mnist.load_data()"
   ]
  },
  {
   "cell_type": "code",
   "execution_count": 5,
   "metadata": {},
   "outputs": [],
   "source": [
    "class_names = ['T-shirt/top', 'Trouser', 'Pullover', 'Dress', 'Coat',\n",
    "               'Sandal', 'Shirt', 'Sneaker', 'Bag', 'Ankle boot']"
   ]
  },
  {
   "cell_type": "code",
   "execution_count": 6,
   "metadata": {},
   "outputs": [
    {
     "name": "stdout",
     "output_type": "stream",
     "text": [
      "這是 T-shirt/top\n"
     ]
    },
    {
     "data": {
      "text/plain": [
       "<matplotlib.image.AxesImage at 0x1e52de710b8>"
      ]
     },
     "execution_count": 6,
     "metadata": {},
     "output_type": "execute_result"
    },
    {
     "data": {
      "image/png": "[encoded data removed]",
      "text/plain": [
       "<Figure size 432x288 with 1 Axes>"
      ]
     },
     "metadata": {
      "needs_background": "light"
     },
     "output_type": "display_data"
    }
   ],
   "source": [
    "n = 9487\n",
    "print('這是', class_names[y_train[n]])\n",
    "plt.imshow(x_train[n])\n"
   ]
  },
  {
   "cell_type": "markdown",
   "metadata": {},
   "source": [
    "# 欣賞數據集內容"
   ]
  },
  {
   "cell_type": "code",
   "execution_count": 7,
   "metadata": {},
   "outputs": [
    {
     "data": {
      "text/plain": [
       "(60000, 28, 28)"
      ]
     },
     "execution_count": 7,
     "metadata": {},
     "output_type": "execute_result"
    }
   ],
   "source": [
    "x_train.shape"
   ]
  },
  {
   "cell_type": "code",
   "execution_count": 8,
   "metadata": {},
   "outputs": [
    {
     "data": {
      "text/plain": [
       "(60000, 10000)"
      ]
     },
     "execution_count": 8,
     "metadata": {},
     "output_type": "execute_result"
    }
   ],
   "source": [
    "len(x_train),len(x_test)"
   ]
  },
  {
   "cell_type": "code",
   "execution_count": 9,
   "metadata": {},
   "outputs": [
    {
     "data": {
      "text/plain": [
       "array([[  0,   0,   0,   0,   0,   0,   0,   0,   1,   0,   0,  39,  85,\n",
       "         90, 102, 118,  66,  50,   0,   0,   1,   0,   1,   0,   0,   0,\n",
       "          0,   0],\n",
       "       [  0,   0,   0,   0,   0,   0,   0,   3,   0,  14, 108, 151, 173,\n",
       "        149, 141, 208, 158, 183,  85,   0,   0,   1,   1,   0,   0,   0,\n",
       "          0,   0],\n",
       "       [  0,   0,   0,   0,   1,   0,   1,   0,   0, 139, 132, 115, 133,\n",
       "         88,  85, 136, 120, 153, 200,  48,   0,   5,   1,   0,   0,   0,\n",
       "          0,   0],\n",
       "       [  0,   0,   0,   0,   1,   0,   3,   0,  51, 224,  75,  69,  94,\n",
       "        110,  75,  95, 130, 103, 147, 132,   0,   0,   0,   0,   0,   0,\n",
       "          0,   0],\n",
       "       [  0,   0,   0,   0,   0,   0,   0,   0, 125, 208, 161, 117, 163,\n",
       "        199, 244, 166, 131, 119, 136, 210,   0,   0,   0,   0,   0,   0,\n",
       "          0,   0],\n",
       "       [  0,   0,   0,   0,   1,   0,   0, 160, 201, 201, 208, 213, 190,\n",
       "        104, 255, 135, 177, 184, 197, 200, 211,  58,   0,   0,   0,   0,\n",
       "          0,   0],\n",
       "       [  0,   0,   0,   0,   0,   0, 172, 192, 189, 192, 188, 195, 224,\n",
       "        171, 110, 185, 205, 199, 196, 192, 192, 179,  19,   0,   0,   0,\n",
       "          0,   0],\n",
       "       [  0,   0,   0,   0,   0,  22, 183, 172, 192, 196, 198, 190, 196,\n",
       "        204,  90, 208, 197, 197, 192, 200, 175, 176, 106,   0,   0,   0,\n",
       "          0,   0],\n",
       "       [  0,   0,   0,   0,   0,  75, 188, 171, 189, 193, 184, 185, 179,\n",
       "        171, 178, 182, 176, 175, 177, 178, 158, 171, 153,   0,   0,   0,\n",
       "          0,   0],\n",
       "       [  0,   0,   0,   0,   0, 118, 183, 178, 168, 159, 160, 167, 155,\n",
       "        149, 128, 160, 146, 160, 145, 147, 167, 178, 179,   0,   0,   0,\n",
       "          0,   0],\n",
       "       [  0,   0,   0,   0,   0, 140, 174, 164, 203, 177, 175, 170, 171,\n",
       "        155,  59, 176, 163, 168, 172, 178, 183, 166, 180,   0,   0,   0,\n",
       "          0,   0],\n",
       "       [  0,   0,   0,   0,   0, 163, 176, 161, 208, 165, 168, 168, 161,\n",
       "        154,  66, 177, 148, 161, 157, 166, 185, 163, 198,  13,   0,   0,\n",
       "          0,   0],\n",
       "       [  0,   0,   0,   0,   0, 178, 174, 165, 204, 169, 165, 172, 155,\n",
       "        147,  84, 171, 145, 161, 151, 166, 184, 171, 192,  29,   0,   0,\n",
       "          0,   0],\n",
       "       [  0,   0,   0,   0,   0, 190, 163, 146, 213, 179, 179, 168, 167,\n",
       "        158,  76, 179, 166, 171, 173, 173, 187, 159, 178,  65,   0,   0,\n",
       "          0,   0],\n",
       "       [  0,   0,   0,   0,   1, 196, 162, 158, 219, 174, 181, 167, 173,\n",
       "        168,  80, 176, 156, 168, 166, 173, 195, 148, 175,  91,   0,   0,\n",
       "          0,   0],\n",
       "       [  0,   0,   0,   0,  12, 199, 167, 165, 215, 167, 168, 168, 164,\n",
       "        153,  81, 163, 138, 160, 155, 170, 196, 161, 189,  90,   0,   0,\n",
       "          0,   0],\n",
       "       [  0,   0,   0,   0,  24, 196, 156, 162, 222, 177, 178, 165, 172,\n",
       "        155,  77, 181, 161, 171, 165, 176, 213, 161, 170, 113,   0,   0,\n",
       "          0,   0],\n",
       "       [  0,   0,   0,   0,  44, 193, 136, 151, 220, 172, 184, 169, 172,\n",
       "        162,  83, 182, 163, 171, 160, 177, 217, 176, 163, 138,   0,   0,\n",
       "          0,   0],\n",
       "       [  0,   0,   0,   0,  57, 194, 148, 161, 215, 179, 182, 171, 164,\n",
       "        144,  82, 174, 146, 165, 161, 178, 215, 181, 171, 126,   0,   0,\n",
       "          0,   0],\n",
       "       [  0,   0,   0,   0,  73, 197, 162, 167, 209, 178, 176, 169, 175,\n",
       "        146,  80, 182, 153, 168, 165, 177, 215, 174, 178, 116,   0,   0,\n",
       "          0,   0],\n",
       "       [  0,   0,   0,   0,  92, 185, 140, 174, 214, 174, 182, 171, 181,\n",
       "        157,  81, 188, 167, 168, 169, 172, 219, 165, 158, 128,   0,   0,\n",
       "          0,   0],\n",
       "       [  0,   0,   0,   0, 110, 184, 140, 178, 207, 173, 177, 174, 166,\n",
       "        154,  84, 182, 158, 170, 166, 167, 213, 166, 160, 130,   0,   0,\n",
       "          0,   0],\n",
       "       [  0,   0,   0,   0, 116, 186, 157, 176, 214, 176, 173, 180, 173,\n",
       "        152,  94, 185, 152, 169, 164, 171, 214, 174, 177, 125,   0,   0,\n",
       "          0,   0],\n",
       "       [  0,   0,   0,   0, 122, 178, 141, 177, 221, 180, 177, 175, 179,\n",
       "        157,  98, 193, 166, 174, 169, 175, 201, 173, 152, 124,   0,   0,\n",
       "          0,   0],\n",
       "       [  0,   0,   0,   0, 151, 172, 162, 171, 188, 180, 178, 169, 172,\n",
       "        160,  92, 188, 169, 172, 167, 171, 204, 184, 172, 156,   0,   0,\n",
       "          0,   0],\n",
       "       [  0,   0,   0,   0, 122, 198, 201,  57, 200, 196, 180, 182, 181,\n",
       "        173, 124, 192, 180, 181, 182, 199,  97, 190, 176,  85,   0,   0,\n",
       "          0,   0],\n",
       "       [  0,   0,   0,   0,   0,   2,   2,   0,  80, 193, 175, 177, 182,\n",
       "        162, 124, 184, 169, 161, 156,  80,   0,   0,   0,   0,   0,   0,\n",
       "          0,   0],\n",
       "       [  0,   0,   0,   0,   0,   0,   0,   0,   0,   1,   2,   1,   2,\n",
       "          1,   3,   0,   0,   0,   0,   0,   0,   0,   0,   0,   0,   0,\n",
       "          0,   0]], dtype=uint8)"
      ]
     },
     "execution_count": 9,
     "metadata": {},
     "output_type": "execute_result"
    }
   ],
   "source": [
    "x_train[240]"
   ]
  },
  {
   "cell_type": "code",
   "execution_count": 10,
   "metadata": {},
   "outputs": [
    {
     "data": {
      "text/plain": [
       "784"
      ]
     },
     "execution_count": 10,
     "metadata": {},
     "output_type": "execute_result"
    }
   ],
   "source": [
    "28*28"
   ]
  },
  {
   "cell_type": "markdown",
   "metadata": {},
   "source": [
    "# 資料整理"
   ]
  },
  {
   "cell_type": "code",
   "execution_count": 11,
   "metadata": {},
   "outputs": [],
   "source": [
    "x_train = x_train.reshape(60000,784)/255\n",
    "x_test = x_test.reshape(10000,784)/255"
   ]
  },
  {
   "cell_type": "markdown",
   "metadata": {},
   "source": [
    "### 將資料存為one-hot encoding"
   ]
  },
  {
   "cell_type": "code",
   "execution_count": 12,
   "metadata": {},
   "outputs": [],
   "source": [
    "from tensorflow.keras.utils import to_categorical"
   ]
  },
  {
   "cell_type": "code",
   "execution_count": 13,
   "metadata": {},
   "outputs": [],
   "source": [
    "y_train =  to_categorical(y_train, 10)\n",
    "y_test = to_categorical(y_test, 10)"
   ]
  },
  {
   "cell_type": "markdown",
   "metadata": {},
   "source": [
    "# 打造神經網路"
   ]
  },
  {
   "cell_type": "code",
   "execution_count": 14,
   "metadata": {},
   "outputs": [],
   "source": [
    "from tensorflow.keras.models import Sequential\n",
    "from tensorflow.keras.layers import Dense \n",
    "from tensorflow.keras.optimizers import SGD "
   ]
  },
  {
   "cell_type": "code",
   "execution_count": 15,
   "metadata": {},
   "outputs": [],
   "source": [
    "model = Sequential()\n",
    "model.add(Dense(87, input_dim=784, activation=\"relu\")) \n",
    "model.add(Dense(87, activation=\"relu\")) \n",
    "model.add(Dense(10, activation=\"softmax\")) \n",
    "model.compile(loss='mse' , optimizer=SGD(lr=0.08) , metrics=['accuracy']) "
   ]
  },
  {
   "cell_type": "code",
   "execution_count": 16,
   "metadata": {},
   "outputs": [
    {
     "name": "stdout",
     "output_type": "stream",
     "text": [
      "Model: \"sequential\"\n",
      "_________________________________________________________________\n",
      "Layer (type)                 Output Shape              Param #   \n",
      "=================================================================\n",
      "dense (Dense)                (None, 87)                68295     \n",
      "_________________________________________________________________\n",
      "dense_1 (Dense)              (None, 87)                7656      \n",
      "_________________________________________________________________\n",
      "dense_2 (Dense)              (None, 10)                880       \n",
      "=================================================================\n",
      "Total params: 76,831\n",
      "Trainable params: 76,831\n",
      "Non-trainable params: 0\n",
      "_________________________________________________________________\n"
     ]
    }
   ],
   "source": [
    "model.summary()"
   ]
  },
  {
   "cell_type": "code",
   "execution_count": 17,
   "metadata": {},
   "outputs": [
    {
     "name": "stdout",
     "output_type": "stream",
     "text": [
      "Train on 60000 samples\n",
      "Epoch 1/15\n",
      "60000/60000 [==============================] - 2s 31us/sample - loss: 0.0755 - accuracy: 0.4173\n",
      "Epoch 2/15\n",
      "60000/60000 [==============================] - 2s 26us/sample - loss: 0.0477 - accuracy: 0.6733\n",
      "Epoch 3/15\n",
      "60000/60000 [==============================] - 2s 26us/sample - loss: 0.0382 - accuracy: 0.7449\n",
      "Epoch 4/15\n",
      "60000/60000 [==============================] - 2s 30us/sample - loss: 0.0334 - accuracy: 0.7864\n",
      "Epoch 5/15\n",
      "60000/60000 [==============================] - 2s 31us/sample - loss: 0.0304 - accuracy: 0.8048\n",
      "Epoch 6/15\n",
      "60000/60000 [==============================] - 2s 32us/sample - loss: 0.0285 - accuracy: 0.8147\n",
      "Epoch 7/15\n",
      "60000/60000 [==============================] - 2s 32us/sample - loss: 0.0272 - accuracy: 0.8208\n",
      "Epoch 8/15\n",
      "60000/60000 [==============================] - 2s 34us/sample - loss: 0.0262 - accuracy: 0.8267\n",
      "Epoch 9/15\n",
      "60000/60000 [==============================] - 2s 38us/sample - loss: 0.0255 - accuracy: 0.8298\n",
      "Epoch 10/15\n",
      "60000/60000 [==============================] - 2s 30us/sample - loss: 0.0249 - accuracy: 0.8334\n",
      "Epoch 11/15\n",
      "60000/60000 [==============================] - 2s 28us/sample - loss: 0.0244 - accuracy: 0.8364\n",
      "Epoch 12/15\n",
      "60000/60000 [==============================] - 2s 27us/sample - loss: 0.0239 - accuracy: 0.8390\n",
      "Epoch 13/15\n",
      "60000/60000 [==============================] - 2s 27us/sample - loss: 0.0235 - accuracy: 0.8407\n",
      "Epoch 14/15\n",
      "60000/60000 [==============================] - 2s 28us/sample - loss: 0.0232 - accuracy: 0.8436\n",
      "Epoch 15/15\n",
      "60000/60000 [==============================] - 2s 29us/sample - loss: 0.0229 - accuracy: 0.8447\n"
     ]
    },
    {
     "data": {
      "text/plain": [
       "<tensorflow.python.keras.callbacks.History at 0x1e52d4e9160>"
      ]
     },
     "execution_count": 17,
     "metadata": {},
     "output_type": "execute_result"
    }
   ],
   "source": [
    "model.fit(x_train, y_train, batch_size=100, epochs=15)"
   ]
  },
  {
   "cell_type": "markdown",
   "metadata": {},
   "source": [
    "### 準確率並不算太高 進行第二次訓練, batch_size增加為150,epoch增加為40"
   ]
  },
  {
   "cell_type": "code",
   "execution_count": 18,
   "metadata": {},
   "outputs": [
    {
     "name": "stdout",
     "output_type": "stream",
     "text": [
      "Train on 60000 samples\n",
      "Epoch 1/40\n",
      "60000/60000 [==============================] - 1s 23us/sample - loss: 0.0225 - accuracy: 0.8483\n",
      "Epoch 2/40\n",
      "60000/60000 [==============================] - 1s 20us/sample - loss: 0.0224 - accuracy: 0.8487\n",
      "Epoch 3/40\n",
      "60000/60000 [==============================] - 1s 18us/sample - loss: 0.0222 - accuracy: 0.8505\n",
      "Epoch 4/40\n",
      "60000/60000 [==============================] - 1s 19us/sample - loss: 0.0220 - accuracy: 0.8511\n",
      "Epoch 5/40\n",
      "60000/60000 [==============================] - 1s 19us/sample - loss: 0.0219 - accuracy: 0.8518\n",
      "Epoch 6/40\n",
      "60000/60000 [==============================] - 1s 19us/sample - loss: 0.0217 - accuracy: 0.8538\n",
      "Epoch 7/40\n",
      "60000/60000 [==============================] - 1s 20us/sample - loss: 0.0216 - accuracy: 0.8537\n",
      "Epoch 8/40\n",
      "60000/60000 [==============================] - 1s 19us/sample - loss: 0.0215 - accuracy: 0.8555\n",
      "Epoch 9/40\n",
      "60000/60000 [==============================] - 1s 19us/sample - loss: 0.0213 - accuracy: 0.8565\n",
      "Epoch 10/40\n",
      "60000/60000 [==============================] - 1s 19us/sample - loss: 0.0212 - accuracy: 0.8575\n",
      "Epoch 11/40\n",
      "60000/60000 [==============================] - 1s 19us/sample - loss: 0.0211 - accuracy: 0.8582\n",
      "Epoch 12/40\n",
      "60000/60000 [==============================] - 1s 20us/sample - loss: 0.0210 - accuracy: 0.8590\n",
      "Epoch 13/40\n",
      "60000/60000 [==============================] - 1s 19us/sample - loss: 0.0209 - accuracy: 0.8602\n",
      "Epoch 14/40\n",
      "60000/60000 [==============================] - 1s 20us/sample - loss: 0.0208 - accuracy: 0.8604\n",
      "Epoch 15/40\n",
      "60000/60000 [==============================] - 1s 19us/sample - loss: 0.0206 - accuracy: 0.8605\n",
      "Epoch 16/40\n",
      "60000/60000 [==============================] - 1s 20us/sample - loss: 0.0205 - accuracy: 0.8615\n",
      "Epoch 17/40\n",
      "60000/60000 [==============================] - 1s 19us/sample - loss: 0.0204 - accuracy: 0.8629\n",
      "Epoch 18/40\n",
      "60000/60000 [==============================] - 1s 19us/sample - loss: 0.0203 - accuracy: 0.8630\n",
      "Epoch 19/40\n",
      "60000/60000 [==============================] - ETA: 0s - loss: 0.0202 - accuracy: 0.86 - 1s 19us/sample - loss: 0.0202 - accuracy: 0.8640\n",
      "Epoch 20/40\n",
      "60000/60000 [==============================] - 1s 19us/sample - loss: 0.0201 - accuracy: 0.8639\n",
      "Epoch 21/40\n",
      "60000/60000 [==============================] - 1s 20us/sample - loss: 0.0201 - accuracy: 0.8653\n",
      "Epoch 22/40\n",
      "60000/60000 [==============================] - 1s 20us/sample - loss: 0.0199 - accuracy: 0.8659\n",
      "Epoch 23/40\n",
      "60000/60000 [==============================] - 1s 19us/sample - loss: 0.0199 - accuracy: 0.8668\n",
      "Epoch 24/40\n",
      "60000/60000 [==============================] - 1s 19us/sample - loss: 0.0198 - accuracy: 0.8675\n",
      "Epoch 25/40\n",
      "60000/60000 [==============================] - 1s 19us/sample - loss: 0.0197 - accuracy: 0.8676\n",
      "Epoch 26/40\n",
      "60000/60000 [==============================] - 1s 19us/sample - loss: 0.0196 - accuracy: 0.8678\n",
      "Epoch 27/40\n",
      "60000/60000 [==============================] - 1s 19us/sample - loss: 0.0195 - accuracy: 0.8685\n",
      "Epoch 28/40\n",
      "60000/60000 [==============================] - 1s 20us/sample - loss: 0.0195 - accuracy: 0.8695\n",
      "Epoch 29/40\n",
      "60000/60000 [==============================] - 1s 19us/sample - loss: 0.0194 - accuracy: 0.8699\n",
      "Epoch 30/40\n",
      "60000/60000 [==============================] - 1s 20us/sample - loss: 0.0193 - accuracy: 0.8703\n",
      "Epoch 31/40\n",
      "60000/60000 [==============================] - 1s 21us/sample - loss: 0.0192 - accuracy: 0.8711\n",
      "Epoch 32/40\n",
      "60000/60000 [==============================] - 1s 19us/sample - loss: 0.0192 - accuracy: 0.8709\n",
      "Epoch 33/40\n",
      "60000/60000 [==============================] - 1s 19us/sample - loss: 0.0191 - accuracy: 0.8715\n",
      "Epoch 34/40\n",
      "60000/60000 [==============================] - 2s 28us/sample - loss: 0.0190 - accuracy: 0.8727\n",
      "Epoch 35/40\n",
      "60000/60000 [==============================] - 1s 23us/sample - loss: 0.0190 - accuracy: 0.8730\n",
      "Epoch 36/40\n",
      "60000/60000 [==============================] - 1s 22us/sample - loss: 0.0189 - accuracy: 0.8738\n",
      "Epoch 37/40\n",
      "60000/60000 [==============================] - 2s 29us/sample - loss: 0.0189 - accuracy: 0.8733\n",
      "Epoch 38/40\n",
      "60000/60000 [==============================] - 1s 23us/sample - loss: 0.0188 - accuracy: 0.8748\n",
      "Epoch 39/40\n",
      "60000/60000 [==============================] - 1s 21us/sample - loss: 0.0187 - accuracy: 0.8747\n",
      "Epoch 40/40\n",
      "60000/60000 [==============================] - 1s 21us/sample - loss: 0.0187 - accuracy: 0.8766\n"
     ]
    },
    {
     "data": {
      "text/plain": [
       "<tensorflow.python.keras.callbacks.History at 0x1e52d59e550>"
      ]
     },
     "execution_count": 18,
     "metadata": {},
     "output_type": "execute_result"
    }
   ],
   "source": [
    "model.fit(x_train, y_train, batch_size=150, epochs=40)"
   ]
  },
  {
   "cell_type": "markdown",
   "metadata": {},
   "source": [
    "#### 增加回合數後,準確率提升為0.8766,但並沒有提升太多...."
   ]
  },
  {
   "cell_type": "markdown",
   "metadata": {},
   "source": [
    "# 訓練成果"
   ]
  },
  {
   "cell_type": "code",
   "execution_count": 19,
   "metadata": {},
   "outputs": [],
   "source": [
    "result = model.predict_classes(x_test)"
   ]
  },
  {
   "cell_type": "code",
   "execution_count": 20,
   "metadata": {},
   "outputs": [
    {
     "name": "stdout",
     "output_type": "stream",
     "text": [
      "神經網路預測是: Coat\n"
     ]
    },
    {
     "data": {
      "text/plain": [
       "<matplotlib.image.AxesImage at 0x1e52d6ee2b0>"
      ]
     },
     "execution_count": 20,
     "metadata": {},
     "output_type": "execute_result"
    },
    {
     "data": {
      "image/png": "[encoded data removed]",
      "text/plain": [
       "<Figure size 432x288 with 1 Axes>"
      ]
     },
     "metadata": {
      "needs_background": "light"
     },
     "output_type": "display_data"
    }
   ],
   "source": [
    "n = 9487\n",
    "print('神經網路預測是:',class_names[result[n]])\n",
    "plt.imshow(x_test[n].reshape(28,28))"
   ]
  },
  {
   "cell_type": "markdown",
   "metadata": {},
   "source": [
    "### 試試看另一種訓練, batch_size增加為200,epoch增加為40, learn rate變為0.095"
   ]
  },
  {
   "cell_type": "code",
   "execution_count": 29,
   "metadata": {},
   "outputs": [],
   "source": [
    "model2 = Sequential()\n",
    "model2.add(Dense(87, input_dim=784, activation=\"relu\")) \n",
    "model2.add(Dense(87, activation=\"relu\")) \n",
    "model2.add(Dense(10, activation=\"softmax\")) \n",
    "model2.compile(loss='mse' , optimizer=SGD(lr=0.095) , metrics=['accuracy']) "
   ]
  },
  {
   "cell_type": "code",
   "execution_count": 30,
   "metadata": {},
   "outputs": [
    {
     "name": "stdout",
     "output_type": "stream",
     "text": [
      "Train on 60000 samples\n",
      "Epoch 1/40\n",
      "60000/60000 [==============================] - 1s 18us/sample - loss: 0.0797 - accuracy: 0.4121\n",
      "Epoch 2/40\n",
      "60000/60000 [==============================] - 1s 22us/sample - loss: 0.0566 - accuracy: 0.6460\n",
      "Epoch 3/40\n",
      "60000/60000 [==============================] - 1s 19us/sample - loss: 0.0464 - accuracy: 0.6833\n",
      "Epoch 4/40\n",
      "60000/60000 [==============================] - 1s 17us/sample - loss: 0.0421 - accuracy: 0.7182\n",
      "Epoch 5/40\n",
      "60000/60000 [==============================] - 1s 15us/sample - loss: 0.0381 - accuracy: 0.7447\n",
      "Epoch 6/40\n",
      "60000/60000 [==============================] - 1s 16us/sample - loss: 0.0347 - accuracy: 0.7678\n",
      "Epoch 7/40\n",
      "60000/60000 [==============================] - 1s 14us/sample - loss: 0.0325 - accuracy: 0.7849\n",
      "Epoch 8/40\n",
      "60000/60000 [==============================] - 1s 14us/sample - loss: 0.0309 - accuracy: 0.7978\n",
      "Epoch 9/40\n",
      "60000/60000 [==============================] - 1s 15us/sample - loss: 0.0296 - accuracy: 0.8065\n",
      "Epoch 10/40\n",
      "60000/60000 [==============================] - 1s 15us/sample - loss: 0.0286 - accuracy: 0.8132\n",
      "Epoch 11/40\n",
      "60000/60000 [==============================] - 1s 14us/sample - loss: 0.0278 - accuracy: 0.8175\n",
      "Epoch 12/40\n",
      "60000/60000 [==============================] - 1s 14us/sample - loss: 0.0271 - accuracy: 0.8219\n",
      "Epoch 13/40\n",
      "60000/60000 [==============================] - 1s 14us/sample - loss: 0.0265 - accuracy: 0.8241\n",
      "Epoch 14/40\n",
      "60000/60000 [==============================] - 1s 14us/sample - loss: 0.0260 - accuracy: 0.8268\n",
      "Epoch 15/40\n",
      "60000/60000 [==============================] - 1s 14us/sample - loss: 0.0256 - accuracy: 0.8290\n",
      "Epoch 16/40\n",
      "60000/60000 [==============================] - 1s 15us/sample - loss: 0.0252 - accuracy: 0.8307\n",
      "Epoch 17/40\n",
      "60000/60000 [==============================] - 1s 14us/sample - loss: 0.0249 - accuracy: 0.8328\n",
      "Epoch 18/40\n",
      "60000/60000 [==============================] - 1s 15us/sample - loss: 0.0245 - accuracy: 0.8349\n",
      "Epoch 19/40\n",
      "60000/60000 [==============================] - 1s 15us/sample - loss: 0.0243 - accuracy: 0.8370\n",
      "Epoch 20/40\n",
      "60000/60000 [==============================] - 1s 14us/sample - loss: 0.0240 - accuracy: 0.8379\n",
      "Epoch 21/40\n",
      "60000/60000 [==============================] - 1s 14us/sample - loss: 0.0237 - accuracy: 0.8396\n",
      "Epoch 22/40\n",
      "60000/60000 [==============================] - 1s 14us/sample - loss: 0.0235 - accuracy: 0.8416\n",
      "Epoch 23/40\n",
      "60000/60000 [==============================] - 1s 14us/sample - loss: 0.0233 - accuracy: 0.8422\n",
      "Epoch 24/40\n",
      "60000/60000 [==============================] - 1s 14us/sample - loss: 0.0231 - accuracy: 0.8439\n",
      "Epoch 25/40\n",
      "60000/60000 [==============================] - 1s 14us/sample - loss: 0.0229 - accuracy: 0.8454\n",
      "Epoch 26/40\n",
      "60000/60000 [==============================] - 1s 15us/sample - loss: 0.0227 - accuracy: 0.8466\n",
      "Epoch 27/40\n",
      "60000/60000 [==============================] - 1s 14us/sample - loss: 0.0226 - accuracy: 0.8479\n",
      "Epoch 28/40\n",
      "60000/60000 [==============================] - 1s 14us/sample - loss: 0.0224 - accuracy: 0.8486\n",
      "Epoch 29/40\n",
      "60000/60000 [==============================] - 1s 14us/sample - loss: 0.0223 - accuracy: 0.8495s -\n",
      "Epoch 30/40\n",
      "60000/60000 [==============================] - 1s 14us/sample - loss: 0.0221 - accuracy: 0.8510\n",
      "Epoch 31/40\n",
      "60000/60000 [==============================] - 1s 15us/sample - loss: 0.0220 - accuracy: 0.8519\n",
      "Epoch 32/40\n",
      "60000/60000 [==============================] - 1s 15us/sample - loss: 0.0218 - accuracy: 0.8525\n",
      "Epoch 33/40\n",
      "60000/60000 [==============================] - 1s 22us/sample - loss: 0.0217 - accuracy: 0.8537\n",
      "Epoch 34/40\n",
      "60000/60000 [==============================] - 1s 22us/sample - loss: 0.0216 - accuracy: 0.8548\n",
      "Epoch 35/40\n",
      "60000/60000 [==============================] - 1s 18us/sample - loss: 0.0215 - accuracy: 0.8560\n",
      "Epoch 36/40\n",
      "60000/60000 [==============================] - 1s 21us/sample - loss: 0.0214 - accuracy: 0.8558\n",
      "Epoch 37/40\n",
      "60000/60000 [==============================] - 1s 16us/sample - loss: 0.0213 - accuracy: 0.8563\n",
      "Epoch 38/40\n",
      "60000/60000 [==============================] - 1s 16us/sample - loss: 0.0212 - accuracy: 0.8572\n",
      "Epoch 39/40\n",
      "60000/60000 [==============================] - 1s 16us/sample - loss: 0.0211 - accuracy: 0.8583\n",
      "Epoch 40/40\n",
      "60000/60000 [==============================] - 1s 16us/sample - loss: 0.0210 - accuracy: 0.8590\n"
     ]
    },
    {
     "data": {
      "text/plain": [
       "<tensorflow.python.keras.callbacks.History at 0x1e553f09e80>"
      ]
     },
     "execution_count": 30,
     "metadata": {},
     "output_type": "execute_result"
    }
   ],
   "source": [
    "model2.fit(x_train, y_train, batch_size=200, epochs=40)"
   ]
  },
  {
   "cell_type": "markdown",
   "metadata": {},
   "source": [
    "#### 唉呦 準確率更低...."
   ]
  },
  {
   "cell_type": "code",
   "execution_count": null,
   "metadata": {},
   "outputs": [],
   "source": []
  }
 ],
 "metadata": {
  "kernelspec": {
   "display_name": "Python 3",
   "language": "python",
   "name": "python3"
  },
  "language_info": {
   "codemirror_mode": {
    "name": "ipython",
    "version": 3
   },
   "file_extension": ".py",
   "mimetype": "text/x-python",
   "name": "python",
   "nbconvert_exporter": "python",
   "pygments_lexer": "ipython3",
   "version": "3.7.3"
  }
 },
 "nbformat": 4,
 "nbformat_minor": 2
}
