{
 "cells": [
  {
   "cell_type": "code",
   "execution_count": 5,
   "metadata": {},
   "outputs": [],
   "source": [
    "%matplotlib inline\n",
    "import matplotlib.pyplot as plt\n",
    "import pandas as pd \n",
    "import numpy as np\n",
    "t\n",
    "import sympy as sp"
   ]
  },
  {
   "cell_type": "code",
   "execution_count": 11,
   "metadata": {},
   "outputs": [
    {
     "name": "stdout",
     "output_type": "stream",
     "text": [
      "請輸入正整數,當輸入X,程式結束:64\n",
      "64.00 的平方根為  8.00 與 - 8.00\n",
      "請輸入正整數,當輸入X,程式結束:98\n",
      "98.00 的平方根為  9.90 與 - 9.90\n",
      "請輸入正整數,當輸入X,程式結束:88\n",
      "88.00 的平方根為  9.38 與 - 9.38\n",
      "請輸入正整數,當輸入X,程式結束:X\n"
     ]
    }
   ],
   "source": [
    "num  = input(\"請輸入正整數,當輸入X,程式結束:\")\n",
    "while num != \"X\":\n",
    "    num1 = float(num) \n",
    "    print(\"%5.2f 的平方根為 %5.2f 與 -%5.2f\" % (num1,num1**0.5,num1**0.5))\n",
    "    num  = input(\"請輸入正整數,當輸入X,程式結束:\")"
   ]
  },
  {
   "cell_type": "code",
   "execution_count": null,
   "metadata": {},
   "outputs": [],
   "source": []
  }
 ],
 "metadata": {
  "kernelspec": {
   "display_name": "Python 3",
   "language": "python",
   "name": "python3"
  },
  "language_info": {
   "codemirror_mode": {
    "name": "ipython",
    "version": 3
   },
   "file_extension": ".py",
   "mimetype": "text/x-python",
   "name": "python",
   "nbconvert_exporter": "python",
   "pygments_lexer": "ipython3",
   "version": "3.7.3"
  }
 },
 "nbformat": 4,
 "nbformat_minor": 2
}
