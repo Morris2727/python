{
 "cells": [
  {
   "cell_type": "code",
   "execution_count": 1,
   "metadata": {},
   "outputs": [],
   "source": [
    "%matplotlib inline \n",
    "import numpy as np\n",
    "import matplotlib.pyplot as plt\n",
    "import pandas as pd"
   ]
  },
  {
   "cell_type": "code",
   "execution_count": 2,
   "metadata": {},
   "outputs": [],
   "source": [
    "from tensorflow.keras.preprocessing import sequence\n",
    "from tensorflow.keras.models import Sequential\n",
    "from tensorflow.keras.layers import Dense, Embedding\n",
    "from tensorflow.keras.layers import LSTM\n",
    "from tensorflow.keras.datasets import imdb"
   ]
  },
  {
   "cell_type": "markdown",
   "metadata": {},
   "source": [
    "## 讀入數據"
   ]
  },
  {
   "cell_type": "code",
   "execution_count": 3,
   "metadata": {},
   "outputs": [],
   "source": [
    "(x_train, y_train), (x_test, y_test) = imdb.load_data(num_words=10000)"
   ]
  },
  {
   "cell_type": "code",
   "execution_count": 4,
   "metadata": {},
   "outputs": [
    {
     "data": {
      "text/plain": [
       "25000"
      ]
     },
     "execution_count": 4,
     "metadata": {},
     "output_type": "execute_result"
    }
   ],
   "source": [
    "len(x_train)"
   ]
  },
  {
   "cell_type": "code",
   "execution_count": 5,
   "metadata": {},
   "outputs": [
    {
     "data": {
      "text/plain": [
       "25000"
      ]
     },
     "execution_count": 5,
     "metadata": {},
     "output_type": "execute_result"
    }
   ],
   "source": [
    "len(x_test)"
   ]
  },
  {
   "cell_type": "code",
   "execution_count": 6,
   "metadata": {},
   "outputs": [
    {
     "data": {
      "text/plain": [
       "218"
      ]
     },
     "execution_count": 6,
     "metadata": {},
     "output_type": "execute_result"
    }
   ],
   "source": [
    "len(x_train[0])"
   ]
  },
  {
   "cell_type": "code",
   "execution_count": 7,
   "metadata": {},
   "outputs": [
    {
     "data": {
      "text/plain": [
       "189"
      ]
     },
     "execution_count": 7,
     "metadata": {},
     "output_type": "execute_result"
    }
   ],
   "source": [
    "len(x_train[1])"
   ]
  },
  {
   "cell_type": "code",
   "execution_count": 8,
   "metadata": {},
   "outputs": [
    {
     "data": {
      "text/plain": [
       "1"
      ]
     },
     "execution_count": 8,
     "metadata": {},
     "output_type": "execute_result"
    }
   ],
   "source": [
    "y_train[0]"
   ]
  },
  {
   "cell_type": "code",
   "execution_count": 9,
   "metadata": {},
   "outputs": [
    {
     "data": {
      "text/plain": [
       "0"
      ]
     },
     "execution_count": 9,
     "metadata": {},
     "output_type": "execute_result"
    }
   ],
   "source": [
    "y_train[1]"
   ]
  },
  {
   "cell_type": "markdown",
   "metadata": {},
   "source": [
    "## 資料的處理"
   ]
  },
  {
   "cell_type": "markdown",
   "metadata": {},
   "source": [
    "#### 將maxlen改為150"
   ]
  },
  {
   "cell_type": "code",
   "execution_count": 10,
   "metadata": {},
   "outputs": [],
   "source": [
    "x_train = sequence.pad_sequences(x_train, maxlen=150)\n",
    "x_test = sequence.pad_sequences(x_test, maxlen=150)    "
   ]
  },
  {
   "cell_type": "markdown",
   "metadata": {},
   "source": [
    "## 打造一個函數學習機"
   ]
  },
  {
   "cell_type": "code",
   "execution_count": 11,
   "metadata": {},
   "outputs": [],
   "source": [
    "model = Sequential()"
   ]
  },
  {
   "cell_type": "code",
   "execution_count": 12,
   "metadata": {},
   "outputs": [],
   "source": [
    "model.add(Embedding(10000,128))"
   ]
  },
  {
   "cell_type": "markdown",
   "metadata": {},
   "source": [
    "#### 將LSTM改為200 dropout改為 0.1"
   ]
  },
  {
   "cell_type": "code",
   "execution_count": 13,
   "metadata": {},
   "outputs": [],
   "source": [
    "model.add(Dense(1,activation='sigmoid'))"
   ]
  },
  {
   "cell_type": "code",
   "execution_count": 14,
   "metadata": {},
   "outputs": [],
   "source": [
    "model.compile(loss='binary_crossentropy',\n",
    "             optimizer='adam',\n",
    "              metrics=['accuracy'])"
   ]
  },
  {
   "cell_type": "code",
   "execution_count": 15,
   "metadata": {},
   "outputs": [
    {
     "name": "stdout",
     "output_type": "stream",
     "text": [
      "Model: \"sequential\"\n",
      "_________________________________________________________________\n",
      "Layer (type)                 Output Shape              Param #   \n",
      "=================================================================\n",
      "embedding (Embedding)        (None, None, 128)         1280000   \n",
      "_________________________________________________________________\n",
      "dense (Dense)                (None, None, 1)           129       \n",
      "=================================================================\n",
      "Total params: 1,280,129\n",
      "Trainable params: 1,280,129\n",
      "Non-trainable params: 0\n",
      "_________________________________________________________________\n"
     ]
    }
   ],
   "source": [
    "model.summary()"
   ]
  },
  {
   "cell_type": "markdown",
   "metadata": {},
   "source": [
    "## 訓練"
   ]
  },
  {
   "cell_type": "markdown",
   "metadata": {},
   "source": [
    "#### batch_size設為40 epochs設為20"
   ]
  },
  {
   "cell_type": "code",
   "execution_count": null,
   "metadata": {},
   "outputs": [
    {
     "name": "stdout",
     "output_type": "stream",
     "text": [
      "Train on 25000 samples, validate on 25000 samples\n",
      "Epoch 1/20\n",
      "25000/25000 [==============================] - 18s 717us/sample - loss: 0.6823 - accuracy: 0.5474 - val_loss: 0.6816 - val_accuracy: 0.5485\n",
      "Epoch 2/20\n",
      "25000/25000 [==============================] - 18s 735us/sample - loss: 0.6789 - accuracy: 0.5525 - val_loss: 0.6815 - val_accuracy: 0.547989 - accuracy: 0.55 - ETA: 2s - loss: 0.6789  - ETA: 2s - l - ETA: 1s - loss: 0.6 - ETA: 1s -\n",
      "Epoch 3/20\n",
      "25000/25000 [==============================] - 19s 772us/sample - loss: 0.6784 - accuracy: 0.5533 - val_loss: 0.6816 - val_accuracy: 0.5492\n",
      "Epoch 4/20\n",
      "25000/25000 [==============================] - 17s 681us/sample - loss: 0.6780 - accuracy: 0.5541 - val_loss: 0.6815 - val_accuracy: 0.5491acy: 0.55\n",
      "Epoch 5/20\n",
      "25000/25000 [==============================] - 16s 626us/sample - loss: 0.6779 - accuracy: 0.5539 - val_loss: 0.6815 - val_accuracy: 0.5498\n",
      "Epoch 6/20\n",
      "25000/25000 [==============================] - 14s 564us/sample - loss: 0.6778 - accuracy: 0.5541 - val_loss: 0.6817 - val_accuracy: 0.5498\n",
      "Epoch 7/20\n",
      "25000/25000 [==============================] - 14s 563us/sample - loss: 0.6776 - accuracy: 0.5553 - val_loss: 0.6818 - val_accuracy: 0.5499\n",
      "Epoch 8/20\n",
      "25000/25000 [==============================] - 14s 561us/sample - loss: 0.6776 - accuracy: 0.5547 - val_loss: 0.6815 - val_accuracy: 0.5496\n",
      "Epoch 9/20\n",
      "25000/25000 [==============================] - 15s 581us/sample - loss: 0.6775 - accuracy: 0.5549 - val_loss: 0.6815 - val_accuracy: 0.5499\n",
      "Epoch 10/20\n",
      "25000/25000 [==============================] - 13s 531us/sample - loss: 0.6775 - accuracy: 0.5548 - val_loss: 0.6817 - val_accuracy: 0.5495\n",
      "Epoch 11/20\n",
      "25000/25000 [==============================] - 15s 597us/sample - loss: 0.6775 - accuracy: 0.5549 - val_loss: 0.6816 - val_accuracy: 0.5497 - accuracy: 0.55\n",
      "Epoch 12/20\n",
      "25000/25000 [==============================] - 15s 591us/sample - loss: 0.6774 - accuracy: 0.5554 - val_loss: 0.6816 - val_accuracy: 0.5498\n",
      "Epoch 13/20\n",
      "25000/25000 [==============================] - 15s 593us/sample - loss: 0.6774 - accuracy: 0.5553 - val_loss: 0.6815 - val_accuracy: 0.5497\n",
      "Epoch 14/20\n",
      "25000/25000 [==============================] - 15s 591us/sample - loss: 0.6774 - accuracy: 0.5553 - val_loss: 0.6817 - val_accuracy: 0.5499\n",
      "Epoch 15/20\n",
      "25000/25000 [==============================] - 15s 585us/sample - loss: 0.6773 - accuracy: 0.5555 - val_loss: 0.6818 - val_accuracy: 0.5500\n",
      "Epoch 16/20\n",
      "25000/25000 [==============================] - 15s 599us/sample - loss: 0.6773 - accuracy: 0.5552 - val_loss: 0.6818 - val_accuracy: 0.5498\n",
      "Epoch 17/20\n",
      "25000/25000 [==============================] - 15s 584us/sample - loss: 0.6772 - accuracy: 0.5555 - val_loss: 0.6819 - val_accuracy: 0.5497\n",
      "Epoch 18/20\n",
      "25000/25000 [==============================] - 14s 579us/sample - loss: 0.6772 - accuracy: 0.5555 - val_loss: 0.6818 - val_accuracy: 0.5499\n",
      "Epoch 19/20\n",
      "25000/25000 [==============================] - 13s 519us/sample - loss: 0.6772 - accuracy: 0.5557 - val_loss: 0.6817 - val_accuracy: 0.5500\n",
      "Epoch 20/20\n",
      "23960/25000 [===========================>..] - ETA: 0s - loss: 0.6771 - accuracy: 0.5553 ETA: 1s - l - ETA: 1s - loss: 0.6"
     ]
    }
   ],
   "source": [
    "model.fit(x_train, y_train, batch_size=40, epochs=20,validation_data=(x_test,y_test))"
   ]
  }
 ],
 "metadata": {
  "kernelspec": {
   "display_name": "Python 3",
   "language": "python",
   "name": "python3"
  },
  "language_info": {
   "codemirror_mode": {
    "name": "ipython",
    "version": 3
   },
   "file_extension": ".py",
   "mimetype": "text/x-python",
   "name": "python",
   "nbconvert_exporter": "python",
   "pygments_lexer": "ipython3",
   "version": "3.7.3"
  }
 },
 "nbformat": 4,
 "nbformat_minor": 2
}
