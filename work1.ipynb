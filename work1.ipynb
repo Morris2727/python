{
 "cells": [
  {
   "cell_type": "code",
   "execution_count": 1,
   "metadata": {},
   "outputs": [],
   "source": [
    "%matplotlib inline\n",
    "\n",
    "import numpy as np\n",
    "import pandas as pd\n",
    "import matplotlib.pyplot as plt"
   ]
  },
  {
   "cell_type": "code",
   "execution_count": 4,
   "metadata": {},
   "outputs": [
    {
     "name": "stdout",
     "output_type": "stream",
     "text": [
      "請輸入c或f:f\n",
      "華氏溫度轉為攝氏溫度\n",
      "請輸入華氏溫度:76\n",
      "攝氏溫度為: 24.444\n"
     ]
    }
   ],
   "source": [
    "mode = input(\"請輸入c或f:\")\n",
    "\n",
    "if mode == \"c\":\n",
    "    print(\"攝氏溫度轉為華氏溫度\")\n",
    "    c=float(input(\"請輸入攝氏溫度:\"))\n",
    "    f=(c*9/5)-32\n",
    "    print(\"華氏溫度為:\",round(f,3))\n",
    "\n",
    "\n",
    "elif mode == \"f\":\n",
    "    print(\"華氏溫度轉為攝氏溫度\")\n",
    "    f=float(input(\"請輸入華氏溫度:\"))\n",
    "    c=(f-32)*5/9\n",
    "    print(\"攝氏溫度為:\",round(c,3))\n",
    "\n",
    "else:\n",
    "    print(\"錯誤\")"
   ]
  },
  {
   "cell_type": "code",
   "execution_count": null,
   "metadata": {},
   "outputs": [],
   "source": []
  }
 ],
 "metadata": {
  "kernelspec": {
   "display_name": "Python 3",
   "language": "python",
   "name": "python3"
  },
  "language_info": {
   "codemirror_mode": {
    "name": "ipython",
    "version": 3
   },
   "file_extension": ".py",
   "mimetype": "text/x-python",
   "name": "python",
   "nbconvert_exporter": "python",
   "pygments_lexer": "ipython3",
   "version": "3.7.3"
  }
 },
 "nbformat": 4,
 "nbformat_minor": 2
}
